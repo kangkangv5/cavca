{
 "cells": [
  {
   "cell_type": "code",
   "execution_count": 3,
   "metadata": {
    "collapsed": true
   },
   "outputs": [],
   "source": [
    "import codecs\n",
    "import pandas as pd\n",
    "import time\n",
    "import sys\n",
    "import os"
   ]
  },
  {
   "cell_type": "code",
   "execution_count": 4,
   "metadata": {
    "collapsed": false
   },
   "outputs": [
    {
     "name": "stdout",
     "output_type": "stream",
     "text": [
      "E:\\code\\jupyter\n"
     ]
    }
   ],
   "source": [
    "print os.path.abspath('')"
   ]
  },
  {
   "cell_type": "code",
   "execution_count": 5,
   "metadata": {
    "collapsed": false
   },
   "outputs": [
    {
     "name": "stdout",
     "output_type": "stream",
     "text": [
      "1464779124.3\n"
     ]
    }
   ],
   "source": [
    "print time.time()"
   ]
  },
  {
   "cell_type": "code",
   "execution_count": 44,
   "metadata": {
    "collapsed": true
   },
   "outputs": [],
   "source": [
    "data = pd.read_csv('E:/code/cavca/singer_info.txt',sep = '|',header=None)\n",
    "cols = [ '主键','SingerName','SingerType','歌手的首字笔画数','歌手拼音','歌手别名','歌手全拼','SingerSex','歌手笔画','SingerArea','歌手字数','NaN',]\n",
    "data.columns = cols\n",
    "test = data.iloc[:40:3,[1,2,7,9]]#最后一列意义不明，应该舍弃。随意选取有用的。"
   ]
  },
  {
   "cell_type": "code",
   "execution_count": 45,
   "metadata": {
    "collapsed": false
   },
   "outputs": [
    {
     "name": "stdout",
     "output_type": "stream",
     "text": [
      "   SingerName  SingerType SingerSex  SingerArea\n",
      "0         许嘉文           1         男           1\n",
      "3   音乐走廊(王宝山)           1         男           1\n",
      "6         张克帆           1         男           3\n",
      "9         钟嘉欣           2         女           2\n",
      "12        高晓通           1         男           1\n",
      "15        VAV           4        组合           6\n",
      "18         扬子           1         男           1\n",
      "21        俞子欣           2         女           1\n",
      "24        张怡凤           2         女           1\n",
      "27         朱强           1         男           1\n",
      "30  KANA-BOON           4        组合           5\n",
      "33        张冬晨           2         女           1\n",
      "36        姚红梅           2         女           1\n",
      "39         曾娇           2         女           1\n"
     ]
    }
   ],
   "source": [
    "print test"
   ]
  },
  {
   "cell_type": "code",
   "execution_count": 46,
   "metadata": {
    "collapsed": false
   },
   "outputs": [
    {
     "name": "stdout",
     "output_type": "stream",
     "text": [
      "   SingerName  SingerType  SingerSex  SingerArea\n",
      "0         许嘉文           1          1           1\n",
      "3   音乐走廊(王宝山)           1          1           1\n",
      "6         张克帆           1          1           3\n",
      "9         钟嘉欣           2          2           2\n",
      "12        高晓通           1          1           1\n"
     ]
    }
   ],
   "source": [
    "test['SingerSex']= test['SingerSex'].replace(['男','女','合唱','组合'],[1,2,3,4])\n",
    "print test[:5]"
   ]
  },
  {
   "cell_type": "code",
   "execution_count": 47,
   "metadata": {
    "collapsed": false
   },
   "outputs": [
    {
     "name": "stdout",
     "output_type": "stream",
     "text": [
      "   SingerName  SingerType  SingerSex  SingerArea\n",
      "9         钟嘉欣           2          2           2\n",
      "21        俞子欣           2          2           1\n",
      "24        张怡凤           2          2           1\n",
      "33        张冬晨           2          2           1\n",
      "36        姚红梅           2          2           1\n",
      "39         曾娇           2          2           1\n"
     ]
    }
   ],
   "source": [
    "test2 = test[test['SingerSex']==2]\n",
    "print test2"
   ]
  },
  {
   "cell_type": "code",
   "execution_count": 48,
   "metadata": {
    "collapsed": false
   },
   "outputs": [
    {
     "name": "stdout",
     "output_type": "stream",
     "text": [
      "  SingerName  SingerType  SingerSex  SingerArea\n",
      "9        钟嘉欣           2          2           2\n"
     ]
    }
   ],
   "source": [
    "test2 = test[(test['SingerName'] =='钟嘉欣')&(test['SingerSex']==2)]\n",
    "print test2"
   ]
  },
  {
   "cell_type": "code",
   "execution_count": 432,
   "metadata": {
    "collapsed": false
   },
   "outputs": [
    {
     "name": "stdout",
     "output_type": "stream",
     "text": [
      "  SingerName  SingerType  SingerSex  SingerArea\n",
      "0        胡彦斌           1          1           1\n",
      "1        蒋卓嘉           1          1           1\n",
      "2        张恒远           1          1           1\n",
      "3         星弟           1          1           1\n",
      "4        金润吉           1          1           1\n"
     ]
    }
   ],
   "source": [
    "base_data = pd.read_csv('E:/code/cavca/singer_base_test.txt',header=None)\n",
    "cols = ['SingerName','SingerType','SingerSex','SingerArea']\n",
    "base_data.columns=cols\n",
    "print base_data[:5]"
   ]
  },
  {
   "cell_type": "code",
   "execution_count": 433,
   "metadata": {
    "collapsed": false
   },
   "outputs": [
    {
     "name": "stdout",
     "output_type": "stream",
     "text": [
      "  SingerName  SingerType  SingerSex  SingerArea\n",
      "0        许嘉文           1          1           1\n",
      "1         扬哲           1          1           3\n",
      "2         姚峰           1          1           1\n",
      "3  音乐走廊(王宝山)           1          1           1\n",
      "4        俞文靖           2          2           1\n"
     ]
    }
   ],
   "source": [
    "data = pd.read_csv('E:/code/cavca/singer_info.txt',sep = '|',header=None)\n",
    "cols = [ 'ID','SingerName','SingerType','歌手的首字笔画数','SingerPinyin','歌手全拼','SingerAnatherName','SingerSex','歌手笔画','SingerArea','歌手字数','NaN',]\n",
    "data.columns=cols\n",
    "#data为原始数据\n",
    "#替换男女合唱组合为 1,2,3,4 ，和数据库的值同步。\n",
    "data['SingerSex'] = data['SingerSex'].replace(['男','女','合唱','组合'],[1,2,3,4])\n",
    "\n",
    "singer2 = data.iloc[:,[1,2,7,9]]\n",
    "print singer2[:5]"
   ]
  },
  {
   "cell_type": "code",
   "execution_count": 434,
   "metadata": {
    "collapsed": false
   },
   "outputs": [
    {
     "name": "stdout",
     "output_type": "stream",
     "text": [
      "19124\n",
      "24044\n"
     ]
    }
   ],
   "source": [
    "print len(singer2)\n",
    "print len(base_data)\n",
    "#singer2['SingerType']"
   ]
  },
  {
   "cell_type": "code",
   "execution_count": 314,
   "metadata": {
    "collapsed": true
   },
   "outputs": [],
   "source": [
    "def change_type(x):\n",
    "    #大陆\n",
    "    if x['SingerArea']==1:\n",
    "        if x['SingerType']==4:\n",
    "            x['SingerType']=3\n",
    "        x['SingerType']=x['SingerType']\n",
    "    #香港和台湾(港台)\n",
    "    elif (x['SingerArea']==2 or x['SingerArea']==3):\n",
    "        if x['SingerType']==4:\n",
    "            x['SingerType']=3\n",
    "        x['SingerType']=x['SingerType']+3\n",
    "    #欧美\n",
    "    elif x['SingerArea']==4:\n",
    "        if x['SingerType']==4:\n",
    "            x['SingerType']=3\n",
    "        x['SingerType']=x['SingerType']+6\n",
    "    #日本和韩国（日韩）\n",
    "    elif (x['SingerArea']==5 or x['SingerArea']==6):\n",
    "        if x['SingerType']==4:\n",
    "            x['SingerType']=3\n",
    "        x['SingerType']=x['SingerType']+9\n",
    "    \n",
    "test = lambda x:int(x).max()-int(x).min()"
   ]
  },
  {
   "cell_type": "code",
   "execution_count": null,
   "metadata": {
    "collapsed": true
   },
   "outputs": [],
   "source": []
  },
  {
   "cell_type": "code",
   "execution_count": 435,
   "metadata": {
    "collapsed": false
   },
   "outputs": [
    {
     "name": "stdout",
     "output_type": "stream",
     "text": [
      "[79, 77, 89, 88, 94, 84, 87, 99, 95, 85, 75, 97, 78, 76, 96, 98, 86, 74, 93, 83, 73]\n"
     ]
    },
    {
     "name": "stderr",
     "output_type": "stream",
     "text": [
      "D:\\Anaconda2\\lib\\site-packages\\ipykernel\\__main__.py:1: SettingWithCopyWarning: \n",
      "A value is trying to be set on a copy of a slice from a DataFrame.\n",
      "Try using .loc[row_indexer,col_indexer] = value instead\n",
      "\n",
      "See the caveats in the documentation: http://pandas.pydata.org/pandas-docs/stable/indexing.html#indexing-view-versus-copy\n",
      "  if __name__ == '__main__':\n",
      "D:\\Anaconda2\\lib\\site-packages\\ipykernel\\__main__.py:2: SettingWithCopyWarning: \n",
      "A value is trying to be set on a copy of a slice from a DataFrame.\n",
      "Try using .loc[row_indexer,col_indexer] = value instead\n",
      "\n",
      "See the caveats in the documentation: http://pandas.pydata.org/pandas-docs/stable/indexing.html#indexing-view-versus-copy\n",
      "  from ipykernel import kernelapp as app\n"
     ]
    }
   ],
   "source": [
    "singer2['SingerType'] = singer2['SingerType'].replace([1,2,3,4],[80,90,100,100])\n",
    "singer2['SingerType']=singer2['SingerType']-singer2['SingerArea']\n",
    "unique = list(singer2['SingerType'].unique())\n",
    "print unique\n"
   ]
  },
  {
   "cell_type": "code",
   "execution_count": 436,
   "metadata": {
    "collapsed": false
   },
   "outputs": [
    {
     "name": "stdout",
     "output_type": "stream",
     "text": [
      "   SingerName  SingerType  SingerSex  SingerArea\n",
      "0         许嘉文           1          1           1\n",
      "1          扬哲           4          1           3\n",
      "2          姚峰           1          1           1\n",
      "3   音乐走廊(王宝山)           1          1           1\n",
      "4         俞文靖           2          2           1\n",
      "5          曾慧           5          2           2\n",
      "6         张克帆           4          1           3\n",
      "7          张怡           2          2           1\n",
      "8         赵云飞           1          1           1\n",
      "9         钟嘉欣           5          2           2\n",
      "10         朱七           1          1           1\n",
      "11         肖玄           1          1           1\n",
      "12        高晓通           1          1           1\n",
      "13        郑添龙           1          1           1\n",
      "14         张阔           1          1           1\n",
      "15        VAV          12          4           6\n",
      "16        傅晴天           2          2           1\n",
      "17        许嘉允          11          2           6\n",
      "18         扬子           1          1           1\n",
      "19        姚光庭           5          2           3\n"
     ]
    },
    {
     "name": "stderr",
     "output_type": "stream",
     "text": [
      "D:\\Anaconda2\\lib\\site-packages\\ipykernel\\__main__.py:2: SettingWithCopyWarning: \n",
      "A value is trying to be set on a copy of a slice from a DataFrame.\n",
      "Try using .loc[row_indexer,col_indexer] = value instead\n",
      "\n",
      "See the caveats in the documentation: http://pandas.pydata.org/pandas-docs/stable/indexing.html#indexing-view-versus-copy\n",
      "  from ipykernel import kernelapp as app\n"
     ]
    }
   ],
   "source": [
    "singer2['SingerType'] = singer2['SingerType'].replace([79,89,99,78,88,98,77,87,97,76,86,96,75,85,95,74,84,94,73,83,93],\n",
    "                                                      [1,2,3,4,5,6,4,5,6,7,8,9,10,11,12,10,11,12,13,13,13])\n",
    "print singer2[:20]"
   ]
  },
  {
   "cell_type": "code",
   "execution_count": 437,
   "metadata": {
    "collapsed": false
   },
   "outputs": [
    {
     "name": "stdout",
     "output_type": "stream",
     "text": [
      "许嘉文 1\n",
      "扬哲 4\n",
      "姚峰 1\n",
      "音乐走廊(王宝山) 1\n",
      "俞文靖 2\n"
     ]
    }
   ],
   "source": [
    "for sin in singer2[:5].values:\n",
    "    print sin[0],sin[1]"
   ]
  },
  {
   "cell_type": "code",
   "execution_count": 438,
   "metadata": {
    "collapsed": false
   },
   "outputs": [
    {
     "name": "stderr",
     "output_type": "stream",
     "text": [
      "D:\\Anaconda2\\lib\\site-packages\\ipykernel\\__main__.py:1: FutureWarning: sort(columns=....) is deprecated, use sort_values(by=.....)\n",
      "  if __name__ == '__main__':\n",
      "D:\\Anaconda2\\lib\\site-packages\\ipykernel\\__main__.py:3: FutureWarning: sort(columns=....) is deprecated, use sort_values(by=.....)\n",
      "  app.launch_new_instance()\n"
     ]
    }
   ],
   "source": [
    "base_data= base_data.sort(columns=\"SingerName\")\n",
    "df1=base_data.reindex()\n",
    "singer2=singer2.sort(columns=\"SingerName\")\n",
    "df2=singer2.reindex()\n",
    "\n",
    "df1['version']='old'\n",
    "df2['version']='new'"
   ]
  },
  {
   "cell_type": "code",
   "execution_count": 439,
   "metadata": {
    "collapsed": false
   },
   "outputs": [
    {
     "data": {
      "text/html": [
       "<div>\n",
       "<table border=\"1\" class=\"dataframe\">\n",
       "  <thead>\n",
       "    <tr style=\"text-align: right;\">\n",
       "      <th></th>\n",
       "      <th>SingerName</th>\n",
       "      <th>SingerType</th>\n",
       "      <th>SingerSex</th>\n",
       "      <th>SingerArea</th>\n",
       "      <th>version</th>\n",
       "    </tr>\n",
       "  </thead>\n",
       "  <tbody>\n",
       "    <tr>\n",
       "      <th>17188</th>\n",
       "      <td>)</td>\n",
       "      <td>12</td>\n",
       "      <td>3</td>\n",
       "      <td>5</td>\n",
       "      <td>old</td>\n",
       "    </tr>\n",
       "    <tr>\n",
       "      <th>13259</th>\n",
       "      <td>0086男团</td>\n",
       "      <td>3</td>\n",
       "      <td>3</td>\n",
       "      <td>1</td>\n",
       "      <td>old</td>\n",
       "    </tr>\n",
       "    <tr>\n",
       "      <th>19449</th>\n",
       "      <td>06超女</td>\n",
       "      <td>1</td>\n",
       "      <td>1</td>\n",
       "      <td>1</td>\n",
       "      <td>old</td>\n",
       "    </tr>\n",
       "    <tr>\n",
       "      <th>16452</th>\n",
       "      <td>1+3组合</td>\n",
       "      <td>3</td>\n",
       "      <td>3</td>\n",
       "      <td>1</td>\n",
       "      <td>old</td>\n",
       "    </tr>\n",
       "    <tr>\n",
       "      <th>15199</th>\n",
       "      <td>10-FEET</td>\n",
       "      <td>12</td>\n",
       "      <td>3</td>\n",
       "      <td>5</td>\n",
       "      <td>old</td>\n",
       "    </tr>\n",
       "  </tbody>\n",
       "</table>\n",
       "</div>"
      ],
      "text/plain": [
       "      SingerName  SingerType  SingerSex  SingerArea version\n",
       "17188          )          12          3           5     old\n",
       "13259     0086男团           3          3           1     old\n",
       "19449       06超女           1          1           1     old\n",
       "16452      1+3组合           3          3           1     old\n",
       "15199    10-FEET          12          3           5     old"
      ]
     },
     "execution_count": 439,
     "metadata": {},
     "output_type": "execute_result"
    }
   ],
   "source": [
    "df1[:5]  #base bata"
   ]
  },
  {
   "cell_type": "code",
   "execution_count": 440,
   "metadata": {
    "collapsed": false
   },
   "outputs": [
    {
     "data": {
      "text/html": [
       "<div>\n",
       "<table border=\"1\" class=\"dataframe\">\n",
       "  <thead>\n",
       "    <tr style=\"text-align: right;\">\n",
       "      <th></th>\n",
       "      <th>SingerName</th>\n",
       "      <th>SingerType</th>\n",
       "      <th>SingerSex</th>\n",
       "      <th>SingerArea</th>\n",
       "      <th>version</th>\n",
       "    </tr>\n",
       "  </thead>\n",
       "  <tbody>\n",
       "    <tr>\n",
       "      <th>15774</th>\n",
       "      <td>'Weird Al' Yankovic</td>\n",
       "      <td>7</td>\n",
       "      <td>1</td>\n",
       "      <td>4</td>\n",
       "      <td>new</td>\n",
       "    </tr>\n",
       "    <tr>\n",
       "      <th>18990</th>\n",
       "      <td>0086男团</td>\n",
       "      <td>3</td>\n",
       "      <td>1</td>\n",
       "      <td>1</td>\n",
       "      <td>new</td>\n",
       "    </tr>\n",
       "    <tr>\n",
       "      <th>18991</th>\n",
       "      <td>06超女</td>\n",
       "      <td>2</td>\n",
       "      <td>2</td>\n",
       "      <td>1</td>\n",
       "      <td>new</td>\n",
       "    </tr>\n",
       "    <tr>\n",
       "      <th>18992</th>\n",
       "      <td>1+3组合</td>\n",
       "      <td>3</td>\n",
       "      <td>2</td>\n",
       "      <td>1</td>\n",
       "      <td>new</td>\n",
       "    </tr>\n",
       "    <tr>\n",
       "      <th>18993</th>\n",
       "      <td>100%</td>\n",
       "      <td>12</td>\n",
       "      <td>1</td>\n",
       "      <td>6</td>\n",
       "      <td>new</td>\n",
       "    </tr>\n",
       "  </tbody>\n",
       "</table>\n",
       "</div>"
      ],
      "text/plain": [
       "                SingerName  SingerType  SingerSex  SingerArea version\n",
       "15774  'Weird Al' Yankovic           7          1           4     new\n",
       "18990               0086男团           3          1           1     new\n",
       "18991                 06超女           2          2           1     new\n",
       "18992                1+3组合           3          2           1     new\n",
       "18993                 100%          12          1           6     new"
      ]
     },
     "execution_count": 440,
     "metadata": {},
     "output_type": "execute_result"
    }
   ],
   "source": [
    "df2[:5]#新的数据"
   ]
  },
  {
   "cell_type": "code",
   "execution_count": 326,
   "metadata": {
    "collapsed": false
   },
   "outputs": [
    {
     "data": {
      "text/plain": [
       "<class 'pandas.core.panel.Panel'>\n",
       "Dimensions: 2 (items) x 24044 (major_axis) x 5 (minor_axis)\n",
       "Items axis: df1 to df2\n",
       "Major_axis axis: 0 to 24043\n",
       "Minor_axis axis: SingerName to version"
      ]
     },
     "execution_count": 326,
     "metadata": {},
     "output_type": "execute_result"
    }
   ],
   "source": [
    "#TODO:查看哪些数据（每一行）是新加的aa\n",
    "diff_panel = pd.Panel(dict(df1 = df1,df2  =df2))\n",
    "diff_panel"
   ]
  },
  {
   "cell_type": "code",
   "execution_count": 327,
   "metadata": {
    "collapsed": false,
    "scrolled": true
   },
   "outputs": [
    {
     "data": {
      "text/plain": [
       "0          许嘉文\n",
       "1           扬哲\n",
       "2           姚峰\n",
       "3    音乐走廊(王宝山)\n",
       "4          俞文靖\n",
       "Name: SingerName, dtype: object"
      ]
     },
     "execution_count": 327,
     "metadata": {},
     "output_type": "execute_result"
    }
   ],
   "source": [
    "diff_panel['df2']['SingerName'].head()"
   ]
  },
  {
   "cell_type": "code",
   "execution_count": 328,
   "metadata": {
    "collapsed": false
   },
   "outputs": [],
   "source": [
    "def report_diff(x):\n",
    "    return x[0] if x[0] == x[1] else '{} ---> {}'.format(*x)\n",
    "def new_diff(x):\n",
    "    return x[1] if x[0] != x[1]  else 'None'"
   ]
  },
  {
   "cell_type": "code",
   "execution_count": 329,
   "metadata": {
    "collapsed": false
   },
   "outputs": [
    {
     "data": {
      "text/html": [
       "<div>\n",
       "<table border=\"1\" class=\"dataframe\">\n",
       "  <thead>\n",
       "    <tr style=\"text-align: right;\">\n",
       "      <th></th>\n",
       "      <th>SingerName</th>\n",
       "      <th>SingerType</th>\n",
       "      <th>SingerSex</th>\n",
       "      <th>SingerArea</th>\n",
       "      <th>version</th>\n",
       "    </tr>\n",
       "  </thead>\n",
       "  <tbody>\n",
       "    <tr>\n",
       "      <th>0</th>\n",
       "      <td>胡彦斌 ---&gt; 许嘉文</td>\n",
       "      <td>1</td>\n",
       "      <td>1</td>\n",
       "      <td>1</td>\n",
       "      <td>old ---&gt; new</td>\n",
       "    </tr>\n",
       "    <tr>\n",
       "      <th>1</th>\n",
       "      <td>蒋卓嘉 ---&gt; 扬哲</td>\n",
       "      <td>1 ---&gt; 4.0</td>\n",
       "      <td>1</td>\n",
       "      <td>1 ---&gt; 3.0</td>\n",
       "      <td>old ---&gt; new</td>\n",
       "    </tr>\n",
       "    <tr>\n",
       "      <th>2</th>\n",
       "      <td>张恒远 ---&gt; 姚峰</td>\n",
       "      <td>1</td>\n",
       "      <td>1</td>\n",
       "      <td>1</td>\n",
       "      <td>old ---&gt; new</td>\n",
       "    </tr>\n",
       "    <tr>\n",
       "      <th>3</th>\n",
       "      <td>星弟 ---&gt; 音乐走廊(王宝山)</td>\n",
       "      <td>1</td>\n",
       "      <td>1</td>\n",
       "      <td>1</td>\n",
       "      <td>old ---&gt; new</td>\n",
       "    </tr>\n",
       "    <tr>\n",
       "      <th>4</th>\n",
       "      <td>金润吉 ---&gt; 俞文靖</td>\n",
       "      <td>1 ---&gt; 2.0</td>\n",
       "      <td>1 ---&gt; 2.0</td>\n",
       "      <td>1</td>\n",
       "      <td>old ---&gt; new</td>\n",
       "    </tr>\n",
       "  </tbody>\n",
       "</table>\n",
       "</div>"
      ],
      "text/plain": [
       "          SingerName  SingerType   SingerSex  SingerArea       version\n",
       "0       胡彦斌 ---> 许嘉文           1           1           1  old ---> new\n",
       "1        蒋卓嘉 ---> 扬哲  1 ---> 4.0           1  1 ---> 3.0  old ---> new\n",
       "2        张恒远 ---> 姚峰           1           1           1  old ---> new\n",
       "3  星弟 ---> 音乐走廊(王宝山)           1           1           1  old ---> new\n",
       "4       金润吉 ---> 俞文靖  1 ---> 2.0  1 ---> 2.0           1  old ---> new"
      ]
     },
     "execution_count": 329,
     "metadata": {},
     "output_type": "execute_result"
    }
   ],
   "source": [
    "diff_output = diff_panel.apply(report_diff, axis=0)\n",
    "diff_output.head()"
   ]
  },
  {
   "cell_type": "code",
   "execution_count": 178,
   "metadata": {
    "collapsed": false
   },
   "outputs": [
    {
     "data": {
      "text/html": [
       "<div>\n",
       "<table border=\"1\" class=\"dataframe\">\n",
       "  <thead>\n",
       "    <tr style=\"text-align: right;\">\n",
       "      <th></th>\n",
       "      <th>SingerName</th>\n",
       "      <th>SingerType</th>\n",
       "      <th>SingerSex</th>\n",
       "      <th>SingerArea</th>\n",
       "    </tr>\n",
       "  </thead>\n",
       "  <tbody>\n",
       "    <tr>\n",
       "      <th>0</th>\n",
       "      <td>许嘉文</td>\n",
       "      <td>None</td>\n",
       "      <td>None</td>\n",
       "      <td>None</td>\n",
       "    </tr>\n",
       "    <tr>\n",
       "      <th>1</th>\n",
       "      <td>扬哲</td>\n",
       "      <td>None</td>\n",
       "      <td>None</td>\n",
       "      <td>3.0</td>\n",
       "    </tr>\n",
       "    <tr>\n",
       "      <th>2</th>\n",
       "      <td>姚峰</td>\n",
       "      <td>None</td>\n",
       "      <td>None</td>\n",
       "      <td>None</td>\n",
       "    </tr>\n",
       "    <tr>\n",
       "      <th>3</th>\n",
       "      <td>音乐走廊(王宝山)</td>\n",
       "      <td>None</td>\n",
       "      <td>None</td>\n",
       "      <td>None</td>\n",
       "    </tr>\n",
       "    <tr>\n",
       "      <th>4</th>\n",
       "      <td>俞文靖</td>\n",
       "      <td>2.0</td>\n",
       "      <td>2.0</td>\n",
       "      <td>None</td>\n",
       "    </tr>\n",
       "  </tbody>\n",
       "</table>\n",
       "</div>"
      ],
      "text/plain": [
       "  SingerName SingerType SingerSex SingerArea\n",
       "0        许嘉文       None      None       None\n",
       "1         扬哲       None      None        3.0\n",
       "2         姚峰       None      None       None\n",
       "3  音乐走廊(王宝山)       None      None       None\n",
       "4        俞文靖        2.0       2.0       None"
      ]
     },
     "execution_count": 178,
     "metadata": {},
     "output_type": "execute_result"
    }
   ],
   "source": [
    "new_output =diff_panel.apply(new_diff,axis = 0)\n",
    "new_output.head()"
   ]
  },
  {
   "cell_type": "code",
   "execution_count": 159,
   "metadata": {
    "collapsed": false
   },
   "outputs": [
    {
     "name": "stdout",
     "output_type": "stream",
     "text": [
      "                SingerName SingerType SingerSex SingerArea\n",
      "1                       扬哲          1         1          3\n",
      "2                       姚峰          1         1          1\n",
      "4                      俞文靖          2         2          1\n",
      "5                       曾慧          2         2          2\n",
      "7                       张怡          2         2          1\n",
      "8                      赵云飞          1         1          1\n",
      "10                      朱七          1         1          1\n",
      "11                      肖玄          1         1          1\n",
      "13                     郑添龙          1         1          1\n",
      "14                      张阔          1         1          1\n",
      "16                     傅晴天          2         2          1\n",
      "17                     许嘉允          2         2          6\n",
      "19                     姚光庭          2         2          3\n",
      "20                     音魔团          4         4          1\n",
      "22                     曾剑雄          1         1          3\n",
      "23                      张魁          1         1          3\n",
      "25                     赵云红          2         2          1\n",
      "26                      钟杰          1         1          1\n",
      "28                     吕宏斌          1         1          1\n",
      "29                      半梦          1         1          1\n",
      "31                     王潇潇          2         2          1\n",
      "32                    Mc小洲          1         1          1\n",
      "34                     许金辉          1         1          1\n",
      "35                     羊进达          1         1          1\n",
      "37                    音频怪物          1         1          1\n",
      "38                      渔圈          1         1          1\n",
      "40                     张拉拉          2         2          1\n",
      "41                     张怡凰          2         2          1\n",
      "42                     赵云龙          1         1          1\n",
      "43                      钟洁          2         2          1\n",
      "...                    ...        ...       ...        ...\n",
      "19094                A-day          4         1          2\n",
      "19095                Adele          2         2          4\n",
      "19096                Adman          1         1          3\n",
      "19097           ADRIAN LUX          2         2          4\n",
      "19098         Adriana Rusu          2         2          4\n",
      "19099      Adrianna Louise          2         2          4\n",
      "19100                AeLL．          4         2          5\n",
      "19101            Aerosmith          4         1          4\n",
      "19102                 Aery          1         1          1\n",
      "19103                  AFI          4         1          4\n",
      "19104              AFROMAN          1         1          4\n",
      "19105         After Scholl          4         2          6\n",
      "19106              After10          4         1          1\n",
      "19107                  AGA          2         2          2\n",
      "19108     Agnetha Faltskog          2         2          4\n",
      "19109                 AG高杰          1         1          7\n",
      "19110                 A-Ha          1         1          4\n",
      "19111              Ai Mini          4         2          1\n",
      "19112                 Aiko          2         2          5\n",
      "19113                Ailee          2         2          6\n",
      "19114           Ailee(李艺真)          2         2          6\n",
      "19115          Aimee Allen          2         2          4\n",
      "19116  Aimee Blackschleger          2         2          4\n",
      "19117                Aimer          2         2          5\n",
      "19118           Air Supply          4         1          4\n",
      "19119            Airbourne          4         1          4\n",
      "19120             Airplane          4         1          6\n",
      "19121                   AJ          1         1          2\n",
      "19122                A-JAX          4         1          6\n",
      "19123                  AJR          4         1          4\n",
      "\n",
      "[19110 rows x 4 columns]\n",
      "19110\n"
     ]
    }
   ],
   "source": [
    "new_singers = new_output[new_output['SingerName']!='None']\n",
    "print new_singers\n",
    "print len(new_singers)"
   ]
  },
  {
   "cell_type": "code",
   "execution_count": 138,
   "metadata": {
    "collapsed": false
   },
   "outputs": [
    {
     "name": "stdout",
     "output_type": "stream",
     "text": [
      "[80, 83]\n"
     ]
    }
   ],
   "source": [
    "scores = [55, 80, 83, 64, 91, 100, 90, 79]\n",
    "\n",
    "def score_filter( score ):\n",
    "  return score >=80 and score < 90\n",
    "# filter()方法\n",
    "print filter( score_filter, scores )  # [80, 83]\n"
   ]
  },
  {
   "cell_type": "code",
   "execution_count": 199,
   "metadata": {
    "collapsed": false
   },
   "outputs": [],
   "source": [
    "new_group = new_singers.groupby('SingerName')"
   ]
  },
  {
   "cell_type": "code",
   "execution_count": 422,
   "metadata": {
    "collapsed": false
   },
   "outputs": [],
   "source": [
    "base_data['version']='old'\n",
    "singer2['version']='new'"
   ]
  },
  {
   "cell_type": "code",
   "execution_count": 423,
   "metadata": {
    "collapsed": false
   },
   "outputs": [
    {
     "data": {
      "text/html": [
       "<div>\n",
       "<table border=\"1\" class=\"dataframe\">\n",
       "  <thead>\n",
       "    <tr style=\"text-align: right;\">\n",
       "      <th></th>\n",
       "      <th>SingerName</th>\n",
       "      <th>SingerType</th>\n",
       "      <th>SingerSex</th>\n",
       "      <th>SingerArea</th>\n",
       "      <th>version</th>\n",
       "    </tr>\n",
       "  </thead>\n",
       "  <tbody>\n",
       "    <tr>\n",
       "      <th>17188</th>\n",
       "      <td>)</td>\n",
       "      <td>12</td>\n",
       "      <td>3</td>\n",
       "      <td>5</td>\n",
       "      <td>old</td>\n",
       "    </tr>\n",
       "    <tr>\n",
       "      <th>13259</th>\n",
       "      <td>0086男团</td>\n",
       "      <td>3</td>\n",
       "      <td>3</td>\n",
       "      <td>1</td>\n",
       "      <td>old</td>\n",
       "    </tr>\n",
       "    <tr>\n",
       "      <th>19449</th>\n",
       "      <td>06超女</td>\n",
       "      <td>1</td>\n",
       "      <td>1</td>\n",
       "      <td>1</td>\n",
       "      <td>old</td>\n",
       "    </tr>\n",
       "    <tr>\n",
       "      <th>16452</th>\n",
       "      <td>1+3组合</td>\n",
       "      <td>3</td>\n",
       "      <td>3</td>\n",
       "      <td>1</td>\n",
       "      <td>old</td>\n",
       "    </tr>\n",
       "    <tr>\n",
       "      <th>15199</th>\n",
       "      <td>10-FEET</td>\n",
       "      <td>12</td>\n",
       "      <td>3</td>\n",
       "      <td>5</td>\n",
       "      <td>old</td>\n",
       "    </tr>\n",
       "  </tbody>\n",
       "</table>\n",
       "</div>"
      ],
      "text/plain": [
       "      SingerName  SingerType  SingerSex  SingerArea version\n",
       "17188          )          12          3           5     old\n",
       "13259     0086男团           3          3           1     old\n",
       "19449       06超女           1          1           1     old\n",
       "16452      1+3组合           3          3           1     old\n",
       "15199    10-FEET          12          3           5     old"
      ]
     },
     "execution_count": 423,
     "metadata": {},
     "output_type": "execute_result"
    }
   ],
   "source": [
    "base_data[:5]"
   ]
  },
  {
   "cell_type": "code",
   "execution_count": 424,
   "metadata": {
    "collapsed": false
   },
   "outputs": [
    {
     "data": {
      "text/html": [
       "<div>\n",
       "<table border=\"1\" class=\"dataframe\">\n",
       "  <thead>\n",
       "    <tr style=\"text-align: right;\">\n",
       "      <th></th>\n",
       "      <th>SingerName</th>\n",
       "      <th>SingerType</th>\n",
       "      <th>SingerSex</th>\n",
       "      <th>SingerArea</th>\n",
       "      <th>version</th>\n",
       "    </tr>\n",
       "  </thead>\n",
       "  <tbody>\n",
       "    <tr>\n",
       "      <th>15774</th>\n",
       "      <td>'Weird Al' Yankovic</td>\n",
       "      <td>7</td>\n",
       "      <td>1</td>\n",
       "      <td>4</td>\n",
       "      <td>new</td>\n",
       "    </tr>\n",
       "    <tr>\n",
       "      <th>18990</th>\n",
       "      <td>0086男团</td>\n",
       "      <td>3</td>\n",
       "      <td>1</td>\n",
       "      <td>1</td>\n",
       "      <td>new</td>\n",
       "    </tr>\n",
       "    <tr>\n",
       "      <th>18991</th>\n",
       "      <td>06超女</td>\n",
       "      <td>2</td>\n",
       "      <td>2</td>\n",
       "      <td>1</td>\n",
       "      <td>new</td>\n",
       "    </tr>\n",
       "    <tr>\n",
       "      <th>18992</th>\n",
       "      <td>1+3组合</td>\n",
       "      <td>3</td>\n",
       "      <td>2</td>\n",
       "      <td>1</td>\n",
       "      <td>new</td>\n",
       "    </tr>\n",
       "    <tr>\n",
       "      <th>18993</th>\n",
       "      <td>100%</td>\n",
       "      <td>12</td>\n",
       "      <td>1</td>\n",
       "      <td>6</td>\n",
       "      <td>new</td>\n",
       "    </tr>\n",
       "  </tbody>\n",
       "</table>\n",
       "</div>"
      ],
      "text/plain": [
       "                SingerName  SingerType  SingerSex  SingerArea version\n",
       "15774  'Weird Al' Yankovic           7          1           4     new\n",
       "18990               0086男团           3          1           1     new\n",
       "18991                 06超女           2          2           1     new\n",
       "18992                1+3组合           3          2           1     new\n",
       "18993                 100%          12          1           6     new"
      ]
     },
     "execution_count": 424,
     "metadata": {},
     "output_type": "execute_result"
    }
   ],
   "source": [
    "singer2[:5]"
   ]
  },
  {
   "cell_type": "code",
   "execution_count": 441,
   "metadata": {
    "collapsed": false
   },
   "outputs": [],
   "source": [
    "full_set =pd.concat([df1,df2],ignore_index =True)"
   ]
  },
  {
   "cell_type": "code",
   "execution_count": 442,
   "metadata": {
    "collapsed": false
   },
   "outputs": [
    {
     "name": "stdout",
     "output_type": "stream",
     "text": [
      "43168\n"
     ]
    }
   ],
   "source": [
    "print len(full_set)"
   ]
  },
  {
   "cell_type": "code",
   "execution_count": null,
   "metadata": {
    "collapsed": true
   },
   "outputs": [],
   "source": []
  },
  {
   "cell_type": "code",
   "execution_count": 443,
   "metadata": {
    "collapsed": false
   },
   "outputs": [
    {
     "name": "stderr",
     "output_type": "stream",
     "text": [
      "D:\\Anaconda2\\lib\\site-packages\\ipykernel\\__main__.py:1: FutureWarning: the take_last=True keyword is deprecated, use keep='last' instead\n",
      "  if __name__ == '__main__':\n"
     ]
    }
   ],
   "source": [
    "changes = full_set.drop_duplicates(subset = ['SingerName'],take_last=True)"
   ]
  },
  {
   "cell_type": "code",
   "execution_count": 449,
   "metadata": {
    "collapsed": false
   },
   "outputs": [
    {
     "name": "stdout",
     "output_type": "stream",
     "text": [
      "the all is 24650\n",
      "the new is 19124\n",
      "the base is 24044\n"
     ]
    }
   ],
   "source": [
    "print 'the all is %d' %len(changes)#两个的合集\n",
    "print 'the new is %d' %len(df2)#新的歌手数据\n",
    "print 'the base is %d' %len(df1)#基本歌手数据\n",
    "#所以新加的数据应该是合集里有的而基本歌手里没有的\n"
   ]
  },
  {
   "cell_type": "code",
   "execution_count": 450,
   "metadata": {
    "collapsed": false
   },
   "outputs": [
    {
     "name": "stderr",
     "output_type": "stream",
     "text": [
      "D:\\Anaconda2\\lib\\site-packages\\ipykernel\\__main__.py:1: FutureWarning: sort(columns=....) is deprecated, use sort_values(by=.....)\n",
      "  if __name__ == '__main__':\n"
     ]
    },
    {
     "data": {
      "text/html": [
       "<div>\n",
       "<table border=\"1\" class=\"dataframe\">\n",
       "  <thead>\n",
       "    <tr style=\"text-align: right;\">\n",
       "      <th></th>\n",
       "      <th>SingerName</th>\n",
       "      <th>SingerType</th>\n",
       "      <th>SingerSex</th>\n",
       "      <th>SingerArea</th>\n",
       "      <th>version</th>\n",
       "      <th>duplicate</th>\n",
       "    </tr>\n",
       "  </thead>\n",
       "  <tbody>\n",
       "    <tr>\n",
       "      <th>24044</th>\n",
       "      <td>'Weird Al' Yankovic</td>\n",
       "      <td>7</td>\n",
       "      <td>1</td>\n",
       "      <td>4</td>\n",
       "      <td>new</td>\n",
       "      <td>False</td>\n",
       "    </tr>\n",
       "    <tr>\n",
       "      <th>0</th>\n",
       "      <td>)</td>\n",
       "      <td>12</td>\n",
       "      <td>3</td>\n",
       "      <td>5</td>\n",
       "      <td>old</td>\n",
       "      <td>False</td>\n",
       "    </tr>\n",
       "    <tr>\n",
       "      <th>24045</th>\n",
       "      <td>0086男团</td>\n",
       "      <td>3</td>\n",
       "      <td>1</td>\n",
       "      <td>1</td>\n",
       "      <td>new</td>\n",
       "      <td>False</td>\n",
       "    </tr>\n",
       "    <tr>\n",
       "      <th>24046</th>\n",
       "      <td>06超女</td>\n",
       "      <td>2</td>\n",
       "      <td>2</td>\n",
       "      <td>1</td>\n",
       "      <td>new</td>\n",
       "      <td>False</td>\n",
       "    </tr>\n",
       "    <tr>\n",
       "      <th>24047</th>\n",
       "      <td>1+3组合</td>\n",
       "      <td>3</td>\n",
       "      <td>2</td>\n",
       "      <td>1</td>\n",
       "      <td>new</td>\n",
       "      <td>False</td>\n",
       "    </tr>\n",
       "    <tr>\n",
       "      <th>4</th>\n",
       "      <td>10-FEET</td>\n",
       "      <td>12</td>\n",
       "      <td>3</td>\n",
       "      <td>5</td>\n",
       "      <td>old</td>\n",
       "      <td>False</td>\n",
       "    </tr>\n",
       "    <tr>\n",
       "      <th>24048</th>\n",
       "      <td>100%</td>\n",
       "      <td>12</td>\n",
       "      <td>1</td>\n",
       "      <td>6</td>\n",
       "      <td>new</td>\n",
       "      <td>False</td>\n",
       "    </tr>\n",
       "    <tr>\n",
       "      <th>24049</th>\n",
       "      <td>1036组合</td>\n",
       "      <td>3</td>\n",
       "      <td>1</td>\n",
       "      <td>1</td>\n",
       "      <td>new</td>\n",
       "      <td>False</td>\n",
       "    </tr>\n",
       "    <tr>\n",
       "      <th>24050</th>\n",
       "      <td>10CC</td>\n",
       "      <td>9</td>\n",
       "      <td>1</td>\n",
       "      <td>4</td>\n",
       "      <td>new</td>\n",
       "      <td>False</td>\n",
       "    </tr>\n",
       "    <tr>\n",
       "      <th>24051</th>\n",
       "      <td>10强踢馆选手</td>\n",
       "      <td>3</td>\n",
       "      <td>3</td>\n",
       "      <td>1</td>\n",
       "      <td>new</td>\n",
       "      <td>False</td>\n",
       "    </tr>\n",
       "    <tr>\n",
       "      <th>9</th>\n",
       "      <td>11호(11)</td>\n",
       "      <td>10</td>\n",
       "      <td>1</td>\n",
       "      <td>6</td>\n",
       "      <td>old</td>\n",
       "      <td>False</td>\n",
       "    </tr>\n",
       "    <tr>\n",
       "      <th>24052</th>\n",
       "      <td>1306组合</td>\n",
       "      <td>3</td>\n",
       "      <td>1</td>\n",
       "      <td>1</td>\n",
       "      <td>new</td>\n",
       "      <td>False</td>\n",
       "    </tr>\n",
       "    <tr>\n",
       "      <th>24053</th>\n",
       "      <td>1314组合</td>\n",
       "      <td>3</td>\n",
       "      <td>1</td>\n",
       "      <td>1</td>\n",
       "      <td>new</td>\n",
       "      <td>False</td>\n",
       "    </tr>\n",
       "    <tr>\n",
       "      <th>12</th>\n",
       "      <td>15</td>\n",
       "      <td>10</td>\n",
       "      <td>1</td>\n",
       "      <td>6</td>\n",
       "      <td>old</td>\n",
       "      <td>False</td>\n",
       "    </tr>\n",
       "    <tr>\n",
       "      <th>24054</th>\n",
       "      <td>15.5少女组合</td>\n",
       "      <td>3</td>\n",
       "      <td>2</td>\n",
       "      <td>1</td>\n",
       "      <td>new</td>\n",
       "      <td>False</td>\n",
       "    </tr>\n",
       "    <tr>\n",
       "      <th>24055</th>\n",
       "      <td>15＆</td>\n",
       "      <td>12</td>\n",
       "      <td>2</td>\n",
       "      <td>6</td>\n",
       "      <td>new</td>\n",
       "      <td>False</td>\n",
       "    </tr>\n",
       "    <tr>\n",
       "      <th>24056</th>\n",
       "      <td>183CLUB</td>\n",
       "      <td>6</td>\n",
       "      <td>1</td>\n",
       "      <td>3</td>\n",
       "      <td>new</td>\n",
       "      <td>False</td>\n",
       "    </tr>\n",
       "    <tr>\n",
       "      <th>24057</th>\n",
       "      <td>19</td>\n",
       "      <td>3</td>\n",
       "      <td>1</td>\n",
       "      <td>1</td>\n",
       "      <td>new</td>\n",
       "      <td>False</td>\n",
       "    </tr>\n",
       "    <tr>\n",
       "      <th>16</th>\n",
       "      <td>19.0</td>\n",
       "      <td>10</td>\n",
       "      <td>1</td>\n",
       "      <td>5</td>\n",
       "      <td>old</td>\n",
       "      <td>False</td>\n",
       "    </tr>\n",
       "    <tr>\n",
       "      <th>24058</th>\n",
       "      <td>1931女子偶像组合</td>\n",
       "      <td>3</td>\n",
       "      <td>2</td>\n",
       "      <td>1</td>\n",
       "      <td>new</td>\n",
       "      <td>False</td>\n",
       "    </tr>\n",
       "  </tbody>\n",
       "</table>\n",
       "</div>"
      ],
      "text/plain": [
       "                SingerName  SingerType  SingerSex  SingerArea version  \\\n",
       "24044  'Weird Al' Yankovic           7          1           4     new   \n",
       "0                        )          12          3           5     old   \n",
       "24045               0086男团           3          1           1     new   \n",
       "24046                 06超女           2          2           1     new   \n",
       "24047                1+3组合           3          2           1     new   \n",
       "4                  10-FEET          12          3           5     old   \n",
       "24048                 100%          12          1           6     new   \n",
       "24049               1036组合           3          1           1     new   \n",
       "24050                 10CC           9          1           4     new   \n",
       "24051              10强踢馆选手           3          3           1     new   \n",
       "9                  11호(11)          10          1           6     old   \n",
       "24052               1306组合           3          1           1     new   \n",
       "24053               1314组合           3          1           1     new   \n",
       "12                      15          10          1           6     old   \n",
       "24054             15.5少女组合           3          2           1     new   \n",
       "24055                  15＆          12          2           6     new   \n",
       "24056              183CLUB           6          1           3     new   \n",
       "24057                   19           3          1           1     new   \n",
       "16                    19.0          10          1           5     old   \n",
       "24058           1931女子偶像组合           3          2           1     new   \n",
       "\n",
       "      duplicate  \n",
       "24044     False  \n",
       "0         False  \n",
       "24045     False  \n",
       "24046     False  \n",
       "24047     False  \n",
       "4         False  \n",
       "24048     False  \n",
       "24049     False  \n",
       "24050     False  \n",
       "24051     False  \n",
       "9         False  \n",
       "24052     False  \n",
       "24053     False  \n",
       "12        False  \n",
       "24054     False  \n",
       "24055     False  \n",
       "24056     False  \n",
       "24057     False  \n",
       "16        False  \n",
       "24058     False  "
      ]
     },
     "execution_count": 450,
     "metadata": {},
     "output_type": "execute_result"
    }
   ],
   "source": [
    "changes.sort(columns=['SingerName']).head(20)"
   ]
  },
  {
   "cell_type": "code",
   "execution_count": 451,
   "metadata": {
    "collapsed": false
   },
   "outputs": [
    {
     "data": {
      "text/plain": [
       "[]"
      ]
     },
     "execution_count": 451,
     "metadata": {},
     "output_type": "execute_result"
    }
   ],
   "source": [
    "#获得所有出现过重复\n",
    "dupe_accts = changes.set_index('SingerName').index.get_duplicates()\n",
    "\n",
    "dupe_accts\n",
    "   "
   ]
  },
  {
   "cell_type": "code",
   "execution_count": 447,
   "metadata": {
    "collapsed": false
   },
   "outputs": [
    {
     "name": "stderr",
     "output_type": "stream",
     "text": [
      "D:\\Anaconda2\\lib\\site-packages\\ipykernel\\__main__.py:1: SettingWithCopyWarning: \n",
      "A value is trying to be set on a copy of a slice from a DataFrame.\n",
      "Try using .loc[row_indexer,col_indexer] = value instead\n",
      "\n",
      "See the caveats in the documentation: http://pandas.pydata.org/pandas-docs/stable/indexing.html#indexing-view-versus-copy\n",
      "  if __name__ == '__main__':\n"
     ]
    },
    {
     "data": {
      "text/html": [
       "<div>\n",
       "<table border=\"1\" class=\"dataframe\">\n",
       "  <thead>\n",
       "    <tr style=\"text-align: right;\">\n",
       "      <th></th>\n",
       "      <th>SingerName</th>\n",
       "      <th>SingerType</th>\n",
       "      <th>SingerSex</th>\n",
       "      <th>SingerArea</th>\n",
       "      <th>version</th>\n",
       "      <th>duplicate</th>\n",
       "    </tr>\n",
       "  </thead>\n",
       "  <tbody>\n",
       "    <tr>\n",
       "      <th>0</th>\n",
       "      <td>)</td>\n",
       "      <td>12</td>\n",
       "      <td>3</td>\n",
       "      <td>5</td>\n",
       "      <td>old</td>\n",
       "      <td>False</td>\n",
       "    </tr>\n",
       "    <tr>\n",
       "      <th>4</th>\n",
       "      <td>10-FEET</td>\n",
       "      <td>12</td>\n",
       "      <td>3</td>\n",
       "      <td>5</td>\n",
       "      <td>old</td>\n",
       "      <td>False</td>\n",
       "    </tr>\n",
       "    <tr>\n",
       "      <th>9</th>\n",
       "      <td>11호(11)</td>\n",
       "      <td>10</td>\n",
       "      <td>1</td>\n",
       "      <td>6</td>\n",
       "      <td>old</td>\n",
       "      <td>False</td>\n",
       "    </tr>\n",
       "    <tr>\n",
       "      <th>12</th>\n",
       "      <td>15</td>\n",
       "      <td>10</td>\n",
       "      <td>1</td>\n",
       "      <td>6</td>\n",
       "      <td>old</td>\n",
       "      <td>False</td>\n",
       "    </tr>\n",
       "    <tr>\n",
       "      <th>16</th>\n",
       "      <td>19.0</td>\n",
       "      <td>10</td>\n",
       "      <td>1</td>\n",
       "      <td>5</td>\n",
       "      <td>old</td>\n",
       "      <td>False</td>\n",
       "    </tr>\n",
       "    <tr>\n",
       "      <th>18</th>\n",
       "      <td>1931组合</td>\n",
       "      <td>6</td>\n",
       "      <td>3</td>\n",
       "      <td>3</td>\n",
       "      <td>old</td>\n",
       "      <td>False</td>\n",
       "    </tr>\n",
       "    <tr>\n",
       "      <th>21</th>\n",
       "      <td>1N1</td>\n",
       "      <td>12</td>\n",
       "      <td>3</td>\n",
       "      <td>6</td>\n",
       "      <td>old</td>\n",
       "      <td>False</td>\n",
       "    </tr>\n",
       "    <tr>\n",
       "      <th>28</th>\n",
       "      <td>2010快乐男声</td>\n",
       "      <td>1</td>\n",
       "      <td>1</td>\n",
       "      <td>1</td>\n",
       "      <td>old</td>\n",
       "      <td>False</td>\n",
       "    </tr>\n",
       "    <tr>\n",
       "      <th>33</th>\n",
       "      <td>216臭脸娃娃</td>\n",
       "      <td>4</td>\n",
       "      <td>1</td>\n",
       "      <td>3</td>\n",
       "      <td>old</td>\n",
       "      <td>False</td>\n",
       "    </tr>\n",
       "    <tr>\n",
       "      <th>35</th>\n",
       "      <td>24herbs</td>\n",
       "      <td>4</td>\n",
       "      <td>1</td>\n",
       "      <td>2</td>\n",
       "      <td>old</td>\n",
       "      <td>False</td>\n",
       "    </tr>\n",
       "    <tr>\n",
       "      <th>38</th>\n",
       "      <td>2Face</td>\n",
       "      <td>10</td>\n",
       "      <td>1</td>\n",
       "      <td>6</td>\n",
       "      <td>old</td>\n",
       "      <td>False</td>\n",
       "    </tr>\n",
       "    <tr>\n",
       "      <th>39</th>\n",
       "      <td>2LSON</td>\n",
       "      <td>10</td>\n",
       "      <td>1</td>\n",
       "      <td>6</td>\n",
       "      <td>old</td>\n",
       "      <td>False</td>\n",
       "    </tr>\n",
       "    <tr>\n",
       "      <th>42</th>\n",
       "      <td>2PM俊昊</td>\n",
       "      <td>10</td>\n",
       "      <td>1</td>\n",
       "      <td>6</td>\n",
       "      <td>old</td>\n",
       "      <td>False</td>\n",
       "    </tr>\n",
       "    <tr>\n",
       "      <th>49</th>\n",
       "      <td>3 Doors Down</td>\n",
       "      <td>9</td>\n",
       "      <td>3</td>\n",
       "      <td>4</td>\n",
       "      <td>old</td>\n",
       "      <td>False</td>\n",
       "    </tr>\n",
       "    <tr>\n",
       "      <th>51</th>\n",
       "      <td>312</td>\n",
       "      <td>13</td>\n",
       "      <td>1</td>\n",
       "      <td>7</td>\n",
       "      <td>old</td>\n",
       "      <td>False</td>\n",
       "    </tr>\n",
       "    <tr>\n",
       "      <th>55</th>\n",
       "      <td>3NY</td>\n",
       "      <td>2</td>\n",
       "      <td>2</td>\n",
       "      <td>1</td>\n",
       "      <td>old</td>\n",
       "      <td>False</td>\n",
       "    </tr>\n",
       "    <tr>\n",
       "      <th>56</th>\n",
       "      <td>3OH 3</td>\n",
       "      <td>7</td>\n",
       "      <td>1</td>\n",
       "      <td>4</td>\n",
       "      <td>old</td>\n",
       "      <td>False</td>\n",
       "    </tr>\n",
       "    <tr>\n",
       "      <th>59</th>\n",
       "      <td>3oh!3</td>\n",
       "      <td>7</td>\n",
       "      <td>1</td>\n",
       "      <td>4</td>\n",
       "      <td>old</td>\n",
       "      <td>False</td>\n",
       "    </tr>\n",
       "    <tr>\n",
       "      <th>61</th>\n",
       "      <td>3rdEyeGirl</td>\n",
       "      <td>9</td>\n",
       "      <td>3</td>\n",
       "      <td>4</td>\n",
       "      <td>old</td>\n",
       "      <td>False</td>\n",
       "    </tr>\n",
       "    <tr>\n",
       "      <th>66</th>\n",
       "      <td>40(Forty)</td>\n",
       "      <td>10</td>\n",
       "      <td>1</td>\n",
       "      <td>6</td>\n",
       "      <td>old</td>\n",
       "      <td>False</td>\n",
       "    </tr>\n",
       "  </tbody>\n",
       "</table>\n",
       "</div>"
      ],
      "text/plain": [
       "      SingerName  SingerType  SingerSex  SingerArea version duplicate\n",
       "0              )          12          3           5     old     False\n",
       "4        10-FEET          12          3           5     old     False\n",
       "9        11호(11)          10          1           6     old     False\n",
       "12            15          10          1           6     old     False\n",
       "16          19.0          10          1           5     old     False\n",
       "18        1931组合           6          3           3     old     False\n",
       "21           1N1          12          3           6     old     False\n",
       "28      2010快乐男声           1          1           1     old     False\n",
       "33       216臭脸娃娃           4          1           3     old     False\n",
       "35       24herbs           4          1           2     old     False\n",
       "38         2Face          10          1           6     old     False\n",
       "39         2LSON          10          1           6     old     False\n",
       "42         2PM俊昊          10          1           6     old     False\n",
       "49  3 Doors Down           9          3           4     old     False\n",
       "51           312          13          1           7     old     False\n",
       "55           3NY           2          2           1     old     False\n",
       "56         3OH 3           7          1           4     old     False\n",
       "59         3oh!3           7          1           4     old     False\n",
       "61    3rdEyeGirl           9          3           4     old     False\n",
       "66     40(Forty)          10          1           6     old     False"
      ]
     },
     "execution_count": 447,
     "metadata": {},
     "output_type": "execute_result"
    }
   ],
   "source": [
    "changes['duplicate'] =changes['SingerName'].isin(dupe_accts)\n",
    "changes[:20]"
   ]
  },
  {
   "cell_type": "code",
   "execution_count": 411,
   "metadata": {
    "collapsed": false
   },
   "outputs": [],
   "source": [
    "add_singers = changes[(changes['duplicate']==False)&(changes['version']=='new')]"
   ]
  },
  {
   "cell_type": "code",
   "execution_count": 412,
   "metadata": {
    "collapsed": false
   },
   "outputs": [
    {
     "data": {
      "text/plain": [
       "19122"
      ]
     },
     "execution_count": 412,
     "metadata": {},
     "output_type": "execute_result"
    }
   ],
   "source": [
    "len(add_singers)"
   ]
  },
  {
   "cell_type": "code",
   "execution_count": 448,
   "metadata": {
    "collapsed": false
   },
   "outputs": [
    {
     "data": {
      "text/html": [
       "<div>\n",
       "<table border=\"1\" class=\"dataframe\">\n",
       "  <thead>\n",
       "    <tr style=\"text-align: right;\">\n",
       "      <th></th>\n",
       "      <th>SingerName</th>\n",
       "      <th>SingerType</th>\n",
       "      <th>SingerSex</th>\n",
       "      <th>SingerArea</th>\n",
       "      <th>version</th>\n",
       "      <th>duplicate</th>\n",
       "    </tr>\n",
       "  </thead>\n",
       "  <tbody>\n",
       "    <tr>\n",
       "      <th>24044</th>\n",
       "      <td>'Weird Al' Yankovic</td>\n",
       "      <td>7</td>\n",
       "      <td>1</td>\n",
       "      <td>4</td>\n",
       "      <td>new</td>\n",
       "      <td>False</td>\n",
       "    </tr>\n",
       "    <tr>\n",
       "      <th>24045</th>\n",
       "      <td>0086男团</td>\n",
       "      <td>3</td>\n",
       "      <td>1</td>\n",
       "      <td>1</td>\n",
       "      <td>new</td>\n",
       "      <td>False</td>\n",
       "    </tr>\n",
       "    <tr>\n",
       "      <th>24046</th>\n",
       "      <td>06超女</td>\n",
       "      <td>2</td>\n",
       "      <td>2</td>\n",
       "      <td>1</td>\n",
       "      <td>new</td>\n",
       "      <td>False</td>\n",
       "    </tr>\n",
       "    <tr>\n",
       "      <th>24047</th>\n",
       "      <td>1+3组合</td>\n",
       "      <td>3</td>\n",
       "      <td>2</td>\n",
       "      <td>1</td>\n",
       "      <td>new</td>\n",
       "      <td>False</td>\n",
       "    </tr>\n",
       "    <tr>\n",
       "      <th>24048</th>\n",
       "      <td>100%</td>\n",
       "      <td>12</td>\n",
       "      <td>1</td>\n",
       "      <td>6</td>\n",
       "      <td>new</td>\n",
       "      <td>False</td>\n",
       "    </tr>\n",
       "    <tr>\n",
       "      <th>24049</th>\n",
       "      <td>1036组合</td>\n",
       "      <td>3</td>\n",
       "      <td>1</td>\n",
       "      <td>1</td>\n",
       "      <td>new</td>\n",
       "      <td>False</td>\n",
       "    </tr>\n",
       "    <tr>\n",
       "      <th>24050</th>\n",
       "      <td>10CC</td>\n",
       "      <td>9</td>\n",
       "      <td>1</td>\n",
       "      <td>4</td>\n",
       "      <td>new</td>\n",
       "      <td>False</td>\n",
       "    </tr>\n",
       "    <tr>\n",
       "      <th>24051</th>\n",
       "      <td>10强踢馆选手</td>\n",
       "      <td>3</td>\n",
       "      <td>3</td>\n",
       "      <td>1</td>\n",
       "      <td>new</td>\n",
       "      <td>False</td>\n",
       "    </tr>\n",
       "    <tr>\n",
       "      <th>24052</th>\n",
       "      <td>1306组合</td>\n",
       "      <td>3</td>\n",
       "      <td>1</td>\n",
       "      <td>1</td>\n",
       "      <td>new</td>\n",
       "      <td>False</td>\n",
       "    </tr>\n",
       "    <tr>\n",
       "      <th>24053</th>\n",
       "      <td>1314组合</td>\n",
       "      <td>3</td>\n",
       "      <td>1</td>\n",
       "      <td>1</td>\n",
       "      <td>new</td>\n",
       "      <td>False</td>\n",
       "    </tr>\n",
       "    <tr>\n",
       "      <th>24054</th>\n",
       "      <td>15.5少女组合</td>\n",
       "      <td>3</td>\n",
       "      <td>2</td>\n",
       "      <td>1</td>\n",
       "      <td>new</td>\n",
       "      <td>False</td>\n",
       "    </tr>\n",
       "    <tr>\n",
       "      <th>24055</th>\n",
       "      <td>15＆</td>\n",
       "      <td>12</td>\n",
       "      <td>2</td>\n",
       "      <td>6</td>\n",
       "      <td>new</td>\n",
       "      <td>False</td>\n",
       "    </tr>\n",
       "    <tr>\n",
       "      <th>24056</th>\n",
       "      <td>183CLUB</td>\n",
       "      <td>6</td>\n",
       "      <td>1</td>\n",
       "      <td>3</td>\n",
       "      <td>new</td>\n",
       "      <td>False</td>\n",
       "    </tr>\n",
       "    <tr>\n",
       "      <th>24057</th>\n",
       "      <td>19</td>\n",
       "      <td>3</td>\n",
       "      <td>1</td>\n",
       "      <td>1</td>\n",
       "      <td>new</td>\n",
       "      <td>False</td>\n",
       "    </tr>\n",
       "    <tr>\n",
       "      <th>24058</th>\n",
       "      <td>1931女子偶像组合</td>\n",
       "      <td>3</td>\n",
       "      <td>2</td>\n",
       "      <td>1</td>\n",
       "      <td>new</td>\n",
       "      <td>False</td>\n",
       "    </tr>\n",
       "    <tr>\n",
       "      <th>24059</th>\n",
       "      <td>1976</td>\n",
       "      <td>6</td>\n",
       "      <td>1</td>\n",
       "      <td>3</td>\n",
       "      <td>new</td>\n",
       "      <td>False</td>\n",
       "    </tr>\n",
       "    <tr>\n",
       "      <th>24060</th>\n",
       "      <td>1983组合</td>\n",
       "      <td>3</td>\n",
       "      <td>1</td>\n",
       "      <td>1</td>\n",
       "      <td>new</td>\n",
       "      <td>False</td>\n",
       "    </tr>\n",
       "    <tr>\n",
       "      <th>24061</th>\n",
       "      <td>1SaGain</td>\n",
       "      <td>10</td>\n",
       "      <td>1</td>\n",
       "      <td>6</td>\n",
       "      <td>new</td>\n",
       "      <td>False</td>\n",
       "    </tr>\n",
       "    <tr>\n",
       "      <th>24062</th>\n",
       "      <td>2 Chainz</td>\n",
       "      <td>7</td>\n",
       "      <td>1</td>\n",
       "      <td>4</td>\n",
       "      <td>new</td>\n",
       "      <td>False</td>\n",
       "    </tr>\n",
       "    <tr>\n",
       "      <th>24063</th>\n",
       "      <td>2 Pac</td>\n",
       "      <td>7</td>\n",
       "      <td>1</td>\n",
       "      <td>4</td>\n",
       "      <td>new</td>\n",
       "      <td>False</td>\n",
       "    </tr>\n",
       "    <tr>\n",
       "      <th>24064</th>\n",
       "      <td>2 YOUNG SISTER</td>\n",
       "      <td>6</td>\n",
       "      <td>2</td>\n",
       "      <td>3</td>\n",
       "      <td>new</td>\n",
       "      <td>False</td>\n",
       "    </tr>\n",
       "    <tr>\n",
       "      <th>24065</th>\n",
       "      <td>2008年世界小姐</td>\n",
       "      <td>2</td>\n",
       "      <td>2</td>\n",
       "      <td>1</td>\n",
       "      <td>new</td>\n",
       "      <td>False</td>\n",
       "    </tr>\n",
       "    <tr>\n",
       "      <th>24066</th>\n",
       "      <td>2009快乐女声全国十强</td>\n",
       "      <td>2</td>\n",
       "      <td>2</td>\n",
       "      <td>1</td>\n",
       "      <td>new</td>\n",
       "      <td>False</td>\n",
       "    </tr>\n",
       "    <tr>\n",
       "      <th>24067</th>\n",
       "      <td>2010锡柴K歌赛获奖选手</td>\n",
       "      <td>3</td>\n",
       "      <td>4</td>\n",
       "      <td>1</td>\n",
       "      <td>new</td>\n",
       "      <td>False</td>\n",
       "    </tr>\n",
       "    <tr>\n",
       "      <th>24068</th>\n",
       "      <td>2011快乐女声全国十二强</td>\n",
       "      <td>2</td>\n",
       "      <td>2</td>\n",
       "      <td>1</td>\n",
       "      <td>new</td>\n",
       "      <td>False</td>\n",
       "    </tr>\n",
       "    <tr>\n",
       "      <th>24069</th>\n",
       "      <td>2013年全国高中生大合唱</td>\n",
       "      <td>6</td>\n",
       "      <td>4</td>\n",
       "      <td>3</td>\n",
       "      <td>new</td>\n",
       "      <td>False</td>\n",
       "    </tr>\n",
       "    <tr>\n",
       "      <th>24070</th>\n",
       "      <td>2013级P1班</td>\n",
       "      <td>3</td>\n",
       "      <td>4</td>\n",
       "      <td>1</td>\n",
       "      <td>new</td>\n",
       "      <td>False</td>\n",
       "    </tr>\n",
       "    <tr>\n",
       "      <th>24071</th>\n",
       "      <td>2014中国小童星演唱会童星代表</td>\n",
       "      <td>3</td>\n",
       "      <td>4</td>\n",
       "      <td>1</td>\n",
       "      <td>new</td>\n",
       "      <td>False</td>\n",
       "    </tr>\n",
       "    <tr>\n",
       "      <th>24072</th>\n",
       "      <td>2014年全国高中生大合唱</td>\n",
       "      <td>4</td>\n",
       "      <td>1</td>\n",
       "      <td>3</td>\n",
       "      <td>new</td>\n",
       "      <td>False</td>\n",
       "    </tr>\n",
       "    <tr>\n",
       "      <th>24073</th>\n",
       "      <td>2015中国小童星</td>\n",
       "      <td>1</td>\n",
       "      <td>1</td>\n",
       "      <td>1</td>\n",
       "      <td>new</td>\n",
       "      <td>False</td>\n",
       "    </tr>\n",
       "    <tr>\n",
       "      <th>...</th>\n",
       "      <td>...</td>\n",
       "      <td>...</td>\n",
       "      <td>...</td>\n",
       "      <td>...</td>\n",
       "      <td>...</td>\n",
       "      <td>...</td>\n",
       "    </tr>\n",
       "    <tr>\n",
       "      <th>43138</th>\n",
       "      <td>하트비</td>\n",
       "      <td>12</td>\n",
       "      <td>1</td>\n",
       "      <td>6</td>\n",
       "      <td>new</td>\n",
       "      <td>False</td>\n",
       "    </tr>\n",
       "    <tr>\n",
       "      <th>43139</th>\n",
       "      <td>하현우</td>\n",
       "      <td>10</td>\n",
       "      <td>1</td>\n",
       "      <td>6</td>\n",
       "      <td>new</td>\n",
       "      <td>False</td>\n",
       "    </tr>\n",
       "    <tr>\n",
       "      <th>43140</th>\n",
       "      <td>함은정</td>\n",
       "      <td>11</td>\n",
       "      <td>2</td>\n",
       "      <td>6</td>\n",
       "      <td>new</td>\n",
       "      <td>False</td>\n",
       "    </tr>\n",
       "    <tr>\n",
       "      <th>43141</th>\n",
       "      <td>허각</td>\n",
       "      <td>10</td>\n",
       "      <td>1</td>\n",
       "      <td>6</td>\n",
       "      <td>new</td>\n",
       "      <td>False</td>\n",
       "    </tr>\n",
       "    <tr>\n",
       "      <th>43142</th>\n",
       "      <td>허각 Huh Gak</td>\n",
       "      <td>10</td>\n",
       "      <td>1</td>\n",
       "      <td>6</td>\n",
       "      <td>new</td>\n",
       "      <td>False</td>\n",
       "    </tr>\n",
       "    <tr>\n",
       "      <th>43143</th>\n",
       "      <td>허그앤키스(Hug Kiss)</td>\n",
       "      <td>12</td>\n",
       "      <td>4</td>\n",
       "      <td>6</td>\n",
       "      <td>new</td>\n",
       "      <td>False</td>\n",
       "    </tr>\n",
       "    <tr>\n",
       "      <th>43144</th>\n",
       "      <td>허니듀(Honey Dew)</td>\n",
       "      <td>12</td>\n",
       "      <td>2</td>\n",
       "      <td>6</td>\n",
       "      <td>new</td>\n",
       "      <td>False</td>\n",
       "    </tr>\n",
       "    <tr>\n",
       "      <th>43145</th>\n",
       "      <td>허영생</td>\n",
       "      <td>10</td>\n",
       "      <td>1</td>\n",
       "      <td>6</td>\n",
       "      <td>new</td>\n",
       "      <td>False</td>\n",
       "    </tr>\n",
       "    <tr>\n",
       "      <th>43146</th>\n",
       "      <td>허윤아(HER YUN AH)</td>\n",
       "      <td>11</td>\n",
       "      <td>2</td>\n",
       "      <td>6</td>\n",
       "      <td>new</td>\n",
       "      <td>False</td>\n",
       "    </tr>\n",
       "    <tr>\n",
       "      <th>43147</th>\n",
       "      <td>헤일로</td>\n",
       "      <td>12</td>\n",
       "      <td>1</td>\n",
       "      <td>6</td>\n",
       "      <td>new</td>\n",
       "      <td>False</td>\n",
       "    </tr>\n",
       "    <tr>\n",
       "      <th>43148</th>\n",
       "      <td>헨리</td>\n",
       "      <td>10</td>\n",
       "      <td>1</td>\n",
       "      <td>6</td>\n",
       "      <td>new</td>\n",
       "      <td>False</td>\n",
       "    </tr>\n",
       "    <tr>\n",
       "      <th>43149</th>\n",
       "      <td>헬로비너스</td>\n",
       "      <td>12</td>\n",
       "      <td>1</td>\n",
       "      <td>6</td>\n",
       "      <td>new</td>\n",
       "      <td>False</td>\n",
       "    </tr>\n",
       "    <tr>\n",
       "      <th>43150</th>\n",
       "      <td>혁오</td>\n",
       "      <td>10</td>\n",
       "      <td>1</td>\n",
       "      <td>6</td>\n",
       "      <td>new</td>\n",
       "      <td>False</td>\n",
       "    </tr>\n",
       "    <tr>\n",
       "      <th>43151</th>\n",
       "      <td>현빈(玄彬)</td>\n",
       "      <td>10</td>\n",
       "      <td>1</td>\n",
       "      <td>6</td>\n",
       "      <td>new</td>\n",
       "      <td>False</td>\n",
       "    </tr>\n",
       "    <tr>\n",
       "      <th>43152</th>\n",
       "      <td>현아(炫雅)</td>\n",
       "      <td>11</td>\n",
       "      <td>2</td>\n",
       "      <td>6</td>\n",
       "      <td>new</td>\n",
       "      <td>False</td>\n",
       "    </tr>\n",
       "    <tr>\n",
       "      <th>43153</th>\n",
       "      <td>현철(玄哲)</td>\n",
       "      <td>10</td>\n",
       "      <td>1</td>\n",
       "      <td>6</td>\n",
       "      <td>new</td>\n",
       "      <td>False</td>\n",
       "    </tr>\n",
       "    <tr>\n",
       "      <th>43154</th>\n",
       "      <td>혜령(惠玲)</td>\n",
       "      <td>11</td>\n",
       "      <td>2</td>\n",
       "      <td>6</td>\n",
       "      <td>new</td>\n",
       "      <td>False</td>\n",
       "    </tr>\n",
       "    <tr>\n",
       "      <th>43155</th>\n",
       "      <td>혜이니</td>\n",
       "      <td>11</td>\n",
       "      <td>2</td>\n",
       "      <td>6</td>\n",
       "      <td>new</td>\n",
       "      <td>False</td>\n",
       "    </tr>\n",
       "    <tr>\n",
       "      <th>43156</th>\n",
       "      <td>혜이니(Heyne)</td>\n",
       "      <td>11</td>\n",
       "      <td>2</td>\n",
       "      <td>6</td>\n",
       "      <td>new</td>\n",
       "      <td>False</td>\n",
       "    </tr>\n",
       "    <tr>\n",
       "      <th>43157</th>\n",
       "      <td>홍대광</td>\n",
       "      <td>10</td>\n",
       "      <td>1</td>\n",
       "      <td>6</td>\n",
       "      <td>new</td>\n",
       "      <td>False</td>\n",
       "    </tr>\n",
       "    <tr>\n",
       "      <th>43158</th>\n",
       "      <td>홍진영</td>\n",
       "      <td>11</td>\n",
       "      <td>2</td>\n",
       "      <td>6</td>\n",
       "      <td>new</td>\n",
       "      <td>False</td>\n",
       "    </tr>\n",
       "    <tr>\n",
       "      <th>43159</th>\n",
       "      <td>화요비</td>\n",
       "      <td>11</td>\n",
       "      <td>2</td>\n",
       "      <td>6</td>\n",
       "      <td>new</td>\n",
       "      <td>False</td>\n",
       "    </tr>\n",
       "    <tr>\n",
       "      <th>43160</th>\n",
       "      <td>환희</td>\n",
       "      <td>10</td>\n",
       "      <td>1</td>\n",
       "      <td>6</td>\n",
       "      <td>new</td>\n",
       "      <td>False</td>\n",
       "    </tr>\n",
       "    <tr>\n",
       "      <th>43161</th>\n",
       "      <td>효린</td>\n",
       "      <td>11</td>\n",
       "      <td>2</td>\n",
       "      <td>6</td>\n",
       "      <td>new</td>\n",
       "      <td>False</td>\n",
       "    </tr>\n",
       "    <tr>\n",
       "      <th>43162</th>\n",
       "      <td>효정</td>\n",
       "      <td>11</td>\n",
       "      <td>2</td>\n",
       "      <td>6</td>\n",
       "      <td>new</td>\n",
       "      <td>False</td>\n",
       "    </tr>\n",
       "    <tr>\n",
       "      <th>43163</th>\n",
       "      <td>후니훈(Hoony Hoon)</td>\n",
       "      <td>10</td>\n",
       "      <td>1</td>\n",
       "      <td>6</td>\n",
       "      <td>new</td>\n",
       "      <td>False</td>\n",
       "    </tr>\n",
       "    <tr>\n",
       "      <th>43164</th>\n",
       "      <td>휘성</td>\n",
       "      <td>10</td>\n",
       "      <td>1</td>\n",
       "      <td>6</td>\n",
       "      <td>new</td>\n",
       "      <td>False</td>\n",
       "    </tr>\n",
       "    <tr>\n",
       "      <th>43165</th>\n",
       "      <td>휴우(Hyoo Woo)</td>\n",
       "      <td>10</td>\n",
       "      <td>1</td>\n",
       "      <td>6</td>\n",
       "      <td>new</td>\n",
       "      <td>False</td>\n",
       "    </tr>\n",
       "    <tr>\n",
       "      <th>43166</th>\n",
       "      <td>히스토리</td>\n",
       "      <td>12</td>\n",
       "      <td>4</td>\n",
       "      <td>6</td>\n",
       "      <td>new</td>\n",
       "      <td>False</td>\n",
       "    </tr>\n",
       "    <tr>\n",
       "      <th>43167</th>\n",
       "      <td>힐링프로젝트(Healing Project)</td>\n",
       "      <td>12</td>\n",
       "      <td>4</td>\n",
       "      <td>6</td>\n",
       "      <td>new</td>\n",
       "      <td>False</td>\n",
       "    </tr>\n",
       "  </tbody>\n",
       "</table>\n",
       "<p>19122 rows × 6 columns</p>\n",
       "</div>"
      ],
      "text/plain": [
       "                    SingerName  SingerType  SingerSex  SingerArea version  \\\n",
       "24044      'Weird Al' Yankovic           7          1           4     new   \n",
       "24045                   0086男团           3          1           1     new   \n",
       "24046                     06超女           2          2           1     new   \n",
       "24047                    1+3组合           3          2           1     new   \n",
       "24048                     100%          12          1           6     new   \n",
       "24049                   1036组合           3          1           1     new   \n",
       "24050                     10CC           9          1           4     new   \n",
       "24051                  10强踢馆选手           3          3           1     new   \n",
       "24052                   1306组合           3          1           1     new   \n",
       "24053                   1314组合           3          1           1     new   \n",
       "24054                 15.5少女组合           3          2           1     new   \n",
       "24055                      15＆          12          2           6     new   \n",
       "24056                  183CLUB           6          1           3     new   \n",
       "24057                       19           3          1           1     new   \n",
       "24058               1931女子偶像组合           3          2           1     new   \n",
       "24059                     1976           6          1           3     new   \n",
       "24060                   1983组合           3          1           1     new   \n",
       "24061                  1SaGain          10          1           6     new   \n",
       "24062                 2 Chainz           7          1           4     new   \n",
       "24063                    2 Pac           7          1           4     new   \n",
       "24064           2 YOUNG SISTER           6          2           3     new   \n",
       "24065                2008年世界小姐           2          2           1     new   \n",
       "24066             2009快乐女声全国十强           2          2           1     new   \n",
       "24067            2010锡柴K歌赛获奖选手           3          4           1     new   \n",
       "24068            2011快乐女声全国十二强           2          2           1     new   \n",
       "24069            2013年全国高中生大合唱           6          4           3     new   \n",
       "24070                 2013级P1班           3          4           1     new   \n",
       "24071         2014中国小童星演唱会童星代表           3          4           1     new   \n",
       "24072            2014年全国高中生大合唱           4          1           3     new   \n",
       "24073                2015中国小童星           1          1           1     new   \n",
       "...                        ...         ...        ...         ...     ...   \n",
       "43138                      하트비          12          1           6     new   \n",
       "43139                      하현우          10          1           6     new   \n",
       "43140                      함은정          11          2           6     new   \n",
       "43141                       허각          10          1           6     new   \n",
       "43142               허각 Huh Gak          10          1           6     new   \n",
       "43143          허그앤키스(Hug Kiss)          12          4           6     new   \n",
       "43144           허니듀(Honey Dew)          12          2           6     new   \n",
       "43145                      허영생          10          1           6     new   \n",
       "43146          허윤아(HER YUN AH)          11          2           6     new   \n",
       "43147                      헤일로          12          1           6     new   \n",
       "43148                       헨리          10          1           6     new   \n",
       "43149                    헬로비너스          12          1           6     new   \n",
       "43150                       혁오          10          1           6     new   \n",
       "43151                   현빈(玄彬)          10          1           6     new   \n",
       "43152                   현아(炫雅)          11          2           6     new   \n",
       "43153                   현철(玄哲)          10          1           6     new   \n",
       "43154                   혜령(惠玲)          11          2           6     new   \n",
       "43155                      혜이니          11          2           6     new   \n",
       "43156               혜이니(Heyne)          11          2           6     new   \n",
       "43157                      홍대광          10          1           6     new   \n",
       "43158                      홍진영          11          2           6     new   \n",
       "43159                      화요비          11          2           6     new   \n",
       "43160                       환희          10          1           6     new   \n",
       "43161                       효린          11          2           6     new   \n",
       "43162                       효정          11          2           6     new   \n",
       "43163          후니훈(Hoony Hoon)          10          1           6     new   \n",
       "43164                       휘성          10          1           6     new   \n",
       "43165             휴우(Hyoo Woo)          10          1           6     new   \n",
       "43166                     히스토리          12          4           6     new   \n",
       "43167  힐링프로젝트(Healing Project)          12          4           6     new   \n",
       "\n",
       "      duplicate  \n",
       "24044     False  \n",
       "24045     False  \n",
       "24046     False  \n",
       "24047     False  \n",
       "24048     False  \n",
       "24049     False  \n",
       "24050     False  \n",
       "24051     False  \n",
       "24052     False  \n",
       "24053     False  \n",
       "24054     False  \n",
       "24055     False  \n",
       "24056     False  \n",
       "24057     False  \n",
       "24058     False  \n",
       "24059     False  \n",
       "24060     False  \n",
       "24061     False  \n",
       "24062     False  \n",
       "24063     False  \n",
       "24064     False  \n",
       "24065     False  \n",
       "24066     False  \n",
       "24067     False  \n",
       "24068     False  \n",
       "24069     False  \n",
       "24070     False  \n",
       "24071     False  \n",
       "24072     False  \n",
       "24073     False  \n",
       "...         ...  \n",
       "43138     False  \n",
       "43139     False  \n",
       "43140     False  \n",
       "43141     False  \n",
       "43142     False  \n",
       "43143     False  \n",
       "43144     False  \n",
       "43145     False  \n",
       "43146     False  \n",
       "43147     False  \n",
       "43148     False  \n",
       "43149     False  \n",
       "43150     False  \n",
       "43151     False  \n",
       "43152     False  \n",
       "43153     False  \n",
       "43154     False  \n",
       "43155     False  \n",
       "43156     False  \n",
       "43157     False  \n",
       "43158     False  \n",
       "43159     False  \n",
       "43160     False  \n",
       "43161     False  \n",
       "43162     False  \n",
       "43163     False  \n",
       "43164     False  \n",
       "43165     False  \n",
       "43166     False  \n",
       "43167     False  \n",
       "\n",
       "[19122 rows x 6 columns]"
      ]
     },
     "execution_count": 448,
     "metadata": {},
     "output_type": "execute_result"
    }
   ],
   "source": [
    "add_singers"
   ]
  },
  {
   "cell_type": "code",
   "execution_count": 453,
   "metadata": {
    "collapsed": false
   },
   "outputs": [],
   "source": [
    "import requests as rq"
   ]
  },
  {
   "cell_type": "code",
   "execution_count": 456,
   "metadata": {
    "collapsed": false
   },
   "outputs": [],
   "source": [
    "rtest =rq.get('http://docs.python-requests.org/en/latest/user/advanced/?highlight=stream',stream =True)"
   ]
  },
  {
   "cell_type": "code",
   "execution_count": 459,
   "metadata": {
    "collapsed": false
   },
   "outputs": [
    {
     "data": {
      "text/plain": [
       "{'X-Cname-TryFiles': 'True', 'Content-Encoding': 'gzip', 'Transfer-Encoding': 'chunked', 'Vary': 'Accept-Encoding', 'X-Served': 'Nginx', 'Server': 'nginx/1.10.0 (Ubuntu)', 'Last-Modified': 'Wed, 01 Jun 2016 18:09:39 GMT', 'Connection': 'keep-alive', 'ETag': 'W/\"574f24e3-1618d\"', 'Date': 'Fri, 03 Jun 2016 06:40:20 GMT', 'X-Deity': 'web01', 'Content-Type': 'text/html'}"
      ]
     },
     "execution_count": 459,
     "metadata": {},
     "output_type": "execute_result"
    }
   ],
   "source": [
    "rtest.headers"
   ]
  },
  {
   "cell_type": "code",
   "execution_count": 474,
   "metadata": {
    "collapsed": false
   },
   "outputs": [],
   "source": [
    "def read_web_songs():\n",
    "    web_songs = pd.read_csv('E:/code/cavca/base_music.txt',usecols = [1,23,20,24,25,14,19],sep = '|',header=None)\n",
    "    cols = ['SongName','SongType','SongScreen','SongProperty','SongVersion','SongPublishArea','SongLanguage']\n",
    "    web_songs.columns= cols\n",
    "    web_songs['SongScreen'] = web_songs['SongScreen'].replace([7,5,2,1],[1,2,3,4])\n",
    "    web_songs['SongLanguage'] = web_songs['SongLanguage'].replace([0,1,2,3,4,5,6],[1,2,4,3,5,6,7])\n",
    "    return web_songs\n"
   ]
  },
  {
   "cell_type": "code",
   "execution_count": 475,
   "metadata": {
    "collapsed": true
   },
   "outputs": [],
   "source": [
    "def read_db_songs():\n",
    "    base_songs = pd.read_csv('E:/code/cavca/song_base_tb.txt',sep = '|',header=None)\n",
    "    cols =['SongName','SongType','SongScreen','SongProperty','SongVersion','SongPublishArea','SongLanguage']\n",
    "    base_songs.columns = cols\n",
    "    return base_songs"
   ]
  },
  {
   "cell_type": "code",
   "execution_count": 476,
   "metadata": {
    "collapsed": false,
    "scrolled": true
   },
   "outputs": [],
   "source": [
    "web_songs = read_web_songs()\n",
    "base_songs = read_db_songs()"
   ]
  },
  {
   "cell_type": "code",
   "execution_count": 483,
   "metadata": {
    "collapsed": false
   },
   "outputs": [
    {
     "data": {
      "text/plain": [
       "array([0, 4, 3, 6, 2], dtype=int64)"
      ]
     },
     "execution_count": 483,
     "metadata": {},
     "output_type": "execute_result"
    }
   ],
   "source": [
    "web_songs['SongScreen'].unique()"
   ]
  },
  {
   "cell_type": "code",
   "execution_count": 478,
   "metadata": {
    "collapsed": false
   },
   "outputs": [
    {
     "data": {
      "text/html": [
       "<div>\n",
       "<table border=\"1\" class=\"dataframe\">\n",
       "  <thead>\n",
       "    <tr style=\"text-align: right;\">\n",
       "      <th></th>\n",
       "      <th>SongName</th>\n",
       "      <th>SongType</th>\n",
       "      <th>SongScreen</th>\n",
       "      <th>SongProperty</th>\n",
       "      <th>SongVersion</th>\n",
       "      <th>SongPublishArea</th>\n",
       "      <th>SongLanguage</th>\n",
       "    </tr>\n",
       "  </thead>\n",
       "  <tbody>\n",
       "    <tr>\n",
       "      <th>0</th>\n",
       "      <td>爱的思念</td>\n",
       "      <td>1</td>\n",
       "      <td>3</td>\n",
       "      <td>1</td>\n",
       "      <td>1</td>\n",
       "      <td>1</td>\n",
       "      <td>1</td>\n",
       "    </tr>\n",
       "    <tr>\n",
       "      <th>1</th>\n",
       "      <td>月光下的情思</td>\n",
       "      <td>1</td>\n",
       "      <td>3</td>\n",
       "      <td>1</td>\n",
       "      <td>1</td>\n",
       "      <td>1</td>\n",
       "      <td>2</td>\n",
       "    </tr>\n",
       "    <tr>\n",
       "      <th>2</th>\n",
       "      <td>我愿</td>\n",
       "      <td>1</td>\n",
       "      <td>3</td>\n",
       "      <td>1</td>\n",
       "      <td>1</td>\n",
       "      <td>1</td>\n",
       "      <td>1</td>\n",
       "    </tr>\n",
       "    <tr>\n",
       "      <th>3</th>\n",
       "      <td>高原女人</td>\n",
       "      <td>1</td>\n",
       "      <td>2</td>\n",
       "      <td>1</td>\n",
       "      <td>4</td>\n",
       "      <td>1</td>\n",
       "      <td>2</td>\n",
       "    </tr>\n",
       "    <tr>\n",
       "      <th>4</th>\n",
       "      <td>守望白云</td>\n",
       "      <td>1</td>\n",
       "      <td>3</td>\n",
       "      <td>1</td>\n",
       "      <td>1</td>\n",
       "      <td>1</td>\n",
       "      <td>1</td>\n",
       "    </tr>\n",
       "  </tbody>\n",
       "</table>\n",
       "</div>"
      ],
      "text/plain": [
       "  SongName  SongType  SongScreen  SongProperty  SongVersion  SongPublishArea  \\\n",
       "0     爱的思念         1           3             1            1                1   \n",
       "1   月光下的情思         1           3             1            1                1   \n",
       "2       我愿         1           3             1            1                1   \n",
       "3     高原女人         1           2             1            4                1   \n",
       "4     守望白云         1           3             1            1                1   \n",
       "\n",
       "   SongLanguage  \n",
       "0             1  \n",
       "1             2  \n",
       "2             1  \n",
       "3             2  \n",
       "4             1  "
      ]
     },
     "execution_count": 478,
     "metadata": {},
     "output_type": "execute_result"
    }
   ],
   "source": [
    "base_songs[:5]"
   ]
  },
  {
   "cell_type": "code",
   "execution_count": null,
   "metadata": {
    "collapsed": true
   },
   "outputs": [],
   "source": [
    "df_merge = pd.merge(df_new, df_old, on=['name', 'sex'], how='outer', indicator=True)\n",
    "df_left_only =  df_merge[df_merge['_merge'] == 'left_only']\n",
    "print df_left_only\n",
    "del df_left_only['_merge']\n",
    "print df_left_only"
   ]
  },
  {
   "cell_type": "code",
   "execution_count": 578,
   "metadata": {
    "collapsed": true
   },
   "outputs": [],
   "source": [
    "\n",
    "def read_web_songs_another():\n",
    "    web_song_id = pd.read_csv('E:/code/cavca/base_music.txt',usecols = [0,1],sep = '|',header=None)\n",
    "    cols = ['SongId','SongName']\n",
    "    web_song_id.columns= cols\n",
    "    return web_song_id\n",
    "\n",
    "def read_db_songs_another():\n",
    "\tbase_songs_id = pd.read_csv('E:/code/cavca/base_compare.txt',sep = '|',header=None)\n",
    "\tcols = ['SongId','SongName']\n",
    "\tbase_songs_id.columns= cols\n",
    "\treturn base_songs_id\n",
    "\n"
   ]
  },
  {
   "cell_type": "code",
   "execution_count": 579,
   "metadata": {
    "collapsed": false
   },
   "outputs": [
    {
     "data": {
      "text/html": [
       "<div>\n",
       "<table border=\"1\" class=\"dataframe\">\n",
       "  <thead>\n",
       "    <tr style=\"text-align: right;\">\n",
       "      <th></th>\n",
       "      <th>SongId</th>\n",
       "      <th>SongName</th>\n",
       "    </tr>\n",
       "  </thead>\n",
       "  <tbody>\n",
       "    <tr>\n",
       "      <th>0</th>\n",
       "      <td>50006412</td>\n",
       "      <td>爱的思念</td>\n",
       "    </tr>\n",
       "    <tr>\n",
       "      <th>1</th>\n",
       "      <td>50006414</td>\n",
       "      <td>月光下的情思</td>\n",
       "    </tr>\n",
       "    <tr>\n",
       "      <th>2</th>\n",
       "      <td>50006480</td>\n",
       "      <td>我愿</td>\n",
       "    </tr>\n",
       "    <tr>\n",
       "      <th>3</th>\n",
       "      <td>50006481</td>\n",
       "      <td>高原女人</td>\n",
       "    </tr>\n",
       "    <tr>\n",
       "      <th>4</th>\n",
       "      <td>50006482</td>\n",
       "      <td>守望白云</td>\n",
       "    </tr>\n",
       "  </tbody>\n",
       "</table>\n",
       "</div>"
      ],
      "text/plain": [
       "     SongId SongName\n",
       "0  50006412     爱的思念\n",
       "1  50006414   月光下的情思\n",
       "2  50006480       我愿\n",
       "3  50006481     高原女人\n",
       "4  50006482     守望白云"
      ]
     },
     "execution_count": 579,
     "metadata": {},
     "output_type": "execute_result"
    }
   ],
   "source": [
    "base_songs_id =read_db_songs_another()\n",
    "web_songs_id = read_web_songs_another()\n",
    "base_songs_id[:5]"
   ]
  },
  {
   "cell_type": "code",
   "execution_count": 580,
   "metadata": {
    "collapsed": false,
    "scrolled": true
   },
   "outputs": [
    {
     "data": {
      "text/html": [
       "<div>\n",
       "<table border=\"1\" class=\"dataframe\">\n",
       "  <thead>\n",
       "    <tr style=\"text-align: right;\">\n",
       "      <th></th>\n",
       "      <th>SongId</th>\n",
       "      <th>SongName</th>\n",
       "    </tr>\n",
       "  </thead>\n",
       "  <tbody>\n",
       "    <tr>\n",
       "      <th>0</th>\n",
       "      <td>50546499mkv</td>\n",
       "      <td>静待伊人</td>\n",
       "    </tr>\n",
       "    <tr>\n",
       "      <th>1</th>\n",
       "      <td>50546463mkv</td>\n",
       "      <td>我们的爱情你珍惜了吗</td>\n",
       "    </tr>\n",
       "    <tr>\n",
       "      <th>2</th>\n",
       "      <td>50546465mkv</td>\n",
       "      <td>那就是你</td>\n",
       "    </tr>\n",
       "    <tr>\n",
       "      <th>3</th>\n",
       "      <td>50546461mkv</td>\n",
       "      <td>这首歌谁听过</td>\n",
       "    </tr>\n",
       "    <tr>\n",
       "      <th>4</th>\n",
       "      <td>50546459mkv</td>\n",
       "      <td>往事如烟</td>\n",
       "    </tr>\n",
       "  </tbody>\n",
       "</table>\n",
       "</div>"
      ],
      "text/plain": [
       "        SongId    SongName\n",
       "0  50546499mkv        静待伊人\n",
       "1  50546463mkv  我们的爱情你珍惜了吗\n",
       "2  50546465mkv        那就是你\n",
       "3  50546461mkv      这首歌谁听过\n",
       "4  50546459mkv        往事如烟"
      ]
     },
     "execution_count": 580,
     "metadata": {},
     "output_type": "execute_result"
    }
   ],
   "source": [
    "web_songs_id[:5]"
   ]
  },
  {
   "cell_type": "code",
   "execution_count": 581,
   "metadata": {
    "collapsed": false
   },
   "outputs": [
    {
     "data": {
      "text/plain": [
       "0         50546499\n",
       "1         50546463\n",
       "2         50546465\n",
       "3         50546461\n",
       "4         50546459\n",
       "5         50546577\n",
       "6         50546475\n",
       "7         50546581\n",
       "8         50546497\n",
       "9         50546473\n",
       "10        50546471\n",
       "11        50546495\n",
       "12        50546494\n",
       "13        50546469\n",
       "14        50546487\n",
       "15        50546575\n",
       "16        50546573\n",
       "17        50546571\n",
       "18        50546561\n",
       "19        50546583\n",
       "20        50546455\n",
       "21        50465271\n",
       "22        50465467\n",
       "23        50060167\n",
       "24        50407767\n",
       "25        50465477\n",
       "26        50407766\n",
       "27        50465475\n",
       "28        50465473\n",
       "29        50465471\n",
       "            ...   \n",
       "135483    50084116\n",
       "135484    50074778\n",
       "135485    50072027\n",
       "135486    50082298\n",
       "135487    50089270\n",
       "135488    50080443\n",
       "135489    50074357\n",
       "135490    50050919\n",
       "135491    50110132\n",
       "135492    50049992\n",
       "135493    50100194\n",
       "135494    50100948\n",
       "135495    50100949\n",
       "135496    50100192\n",
       "135497    50100947\n",
       "135498    50101387\n",
       "135499    50101315\n",
       "135500    50101135\n",
       "135501    50101390\n",
       "135502    50101391\n",
       "135503    50101393\n",
       "135504    50101388\n",
       "135505    50059601\n",
       "135506    50059600\n",
       "135507    50061790\n",
       "135508    50058310\n",
       "135509    50058314\n",
       "135510    50058312\n",
       "135511    50058573\n",
       "135512    50087833\n",
       "Name: SongId, dtype: object"
      ]
     },
     "execution_count": 581,
     "metadata": {},
     "output_type": "execute_result"
    }
   ],
   "source": [
    "web_songs_id['SongId'].str.extract('(\\d*)')\n",
    "#web_songs_id['SongId']  = web_songs_id['SongId'].map(lambda x:x.strip(\"mkv\"))\n"
   ]
  },
  {
   "cell_type": "code",
   "execution_count": 582,
   "metadata": {
    "collapsed": false
   },
   "outputs": [
    {
     "data": {
      "text/plain": [
       "<pandas.core.strings.StringMethods at 0x291b3e10>"
      ]
     },
     "execution_count": 582,
     "metadata": {},
     "output_type": "execute_result"
    }
   ],
   "source": [
    "web_songs_id['SongId'][:50].str."
   ]
  },
  {
   "cell_type": "code",
   "execution_count": 544,
   "metadata": {
    "collapsed": false
   },
   "outputs": [
    {
     "name": "stdout",
     "output_type": "stream",
     "text": [
      "0                \n",
      "1     50546463mkv\n",
      "2     50546465mkv\n",
      "3     50546461mkv\n",
      "4     50546459mkv\n",
      "5     50546577mkv\n",
      "6     50546475mkv\n",
      "7     50546581mkv\n",
      "8     50546497mkv\n",
      "9     50546473mkv\n",
      "10    50546471mkv\n",
      "11    50546495mkv\n",
      "12    50546494mkv\n",
      "13    50546469mkv\n",
      "14    50546487mkv\n",
      "15    50546575mkv\n",
      "16    50546573mkv\n",
      "17    50546571mkv\n",
      "18    50546561mkv\n",
      "19    50546583mkv\n",
      "20    50546455mkv\n",
      "21    50465271mkv\n",
      "22    50465467mkv\n",
      "23    50060167mkv\n",
      "24    50407767mkv\n",
      "25    50465477mkv\n",
      "26    50407766mkv\n",
      "27    50465475mkv\n",
      "28    50465473mkv\n",
      "29    50465471mkv\n",
      "30    50465469mkv\n",
      "31    50269697mkv\n",
      "32    50221992mkv\n",
      "33    50291453mkv\n",
      "34    50534278mkv\n",
      "35    50116924mkv\n",
      "36    50472772mkv\n",
      "37    50071314mkv\n",
      "38    50447771mkv\n",
      "39    50071312mkv\n",
      "40    50071310mkv\n",
      "41    50224860mkv\n",
      "42    50218090mkv\n",
      "43    50107860mkv\n",
      "44    50105984mkv\n",
      "45    50108238mkv\n",
      "46    50219628mkv\n",
      "47    50539858mkv\n",
      "48    50539937mkv\n",
      "49    50539930mkv\n",
      "Name: SongId, dtype: object\n"
     ]
    }
   ],
   "source": []
  },
  {
   "cell_type": "code",
   "execution_count": 518,
   "metadata": {
    "collapsed": true
   },
   "outputs": [],
   "source": []
  },
  {
   "cell_type": "code",
   "execution_count": 519,
   "metadata": {
    "collapsed": true
   },
   "outputs": [],
   "source": []
  },
  {
   "cell_type": "code",
   "execution_count": 524,
   "metadata": {
    "collapsed": false
   },
   "outputs": [
    {
     "data": {
      "text/plain": [
       "['42343432']"
      ]
     },
     "execution_count": 524,
     "metadata": {},
     "output_type": "execute_result"
    }
   ],
   "source": []
  },
  {
   "cell_type": "code",
   "execution_count": null,
   "metadata": {
    "collapsed": true
   },
   "outputs": [],
   "source": []
  }
 ],
 "metadata": {
  "kernelspec": {
   "display_name": "Python 2",
   "language": "python",
   "name": "python2"
  },
  "language_info": {
   "codemirror_mode": {
    "name": "ipython",
    "version": 2
   },
   "file_extension": ".py",
   "mimetype": "text/x-python",
   "name": "python",
   "nbconvert_exporter": "python",
   "pygments_lexer": "ipython2",
   "version": "2.7.11"
  }
 },
 "nbformat": 4,
 "nbformat_minor": 0
}
